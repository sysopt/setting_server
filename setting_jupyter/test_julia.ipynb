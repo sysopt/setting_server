{
 "cells": [
  {
   "cell_type": "markdown",
   "id": "f7d9df56",
   "metadata": {},
   "source": [
    "Code này chạy Julia\n",
    "\n",
    "20221211 Đăng cài Julia bản 1.8.3, sau đó chạy Julia, trong môi trường Julia thì dùng các lệnh sau để cài đặt:\n",
    "\n",
    "using Pkg\n",
    "\n",
    "Pkg.add(\"IJulia\") # tạo kết nối giữa Julia backend với Jupyter\n",
    "\n",
    "Pkg.add(\"JuMP\") # optimization toolbox (https://jump.dev/JuMP.jl/stable/installation/)\n",
    "\n",
    "Pkg.add(\"AmplNLWriter\") # to use solvers with AMPL interface https://github.com/jump-dev/AmplNLWriter.jl\n",
    "\n",
    "Pkg.add(\"Bonmin_jll\") # optimization solver Bonmin\n",
    "\n",
    "Pkg.add(\"Couenne_jll\") # solver Couenne\n",
    "\n",
    "Pkg.add(\"Cbc\") # solver Cbc\n",
    "\n",
    "Pkg.add(\"Clp\") # solver Clp\n",
    "\n",
    "Pkg.add(\"ECOS\") # solver ECOS\n",
    "\n",
    "Pkg.add(\"GLPK\") # solver GLPK\n",
    "\n",
    "Pkg.add(\"HiGHS\") # solver HiGHS\n",
    "\n",
    "Pkg.add(\"Ipopt\") # solver Ipopt\n",
    "\n",
    "Pkg.add(\"SCIP\") # solver SCIP\n",
    "\n",
    "Pkg.add(\"Juniper\") # solver Juniper\n",
    "\n",
    "Pkg.add(\"OSQP\") # solver OSQP\n",
    "\n",
    "Pkg.add(\"NLopt\") # solver NLopt\n",
    "\n",
    "Pkg.add(\"DataFrames\") # to deal with data in examples\n",
    "\n",
    "Pkg.add(\"CSV\") # to deal with CSV data in examples\n",
    "\n",
    "Pkg.add(\"Plots\") # plotting\n",
    "\n"
   ]
  },
  {
   "cell_type": "code",
   "execution_count": 1,
   "id": "d6257c13",
   "metadata": {},
   "outputs": [
    {
     "data": {
      "text/plain": [
       "4.141592653589793"
      ]
     },
     "execution_count": 1,
     "metadata": {},
     "output_type": "execute_result"
    }
   ],
   "source": [
    "1 + pi"
   ]
  },
  {
   "cell_type": "code",
   "execution_count": 2,
   "id": "252f14a7",
   "metadata": {},
   "outputs": [
    {
     "data": {
      "text/plain": [
       "8"
      ]
     },
     "execution_count": 2,
     "metadata": {},
     "output_type": "execute_result"
    }
   ],
   "source": [
    "2^3 # comment đây là lũy thừa"
   ]
  },
  {
   "cell_type": "markdown",
   "id": "17a0bed0",
   "metadata": {},
   "source": [
    "# Test JuMP with an example: https://jump.dev/JuMP.jl/stable/tutorials/linear/diet/#The-diet-problem"
   ]
  },
  {
   "cell_type": "code",
   "execution_count": 3,
   "id": "93c0f0af",
   "metadata": {},
   "outputs": [],
   "source": [
    "using JuMP\n",
    "import HiGHS\n",
    "import DataFrames\n"
   ]
  },
  {
   "cell_type": "code",
   "execution_count": 4,
   "id": "d28ecfc4",
   "metadata": {},
   "outputs": [
    {
     "data": {
      "text/plain": [
       "A JuMP Model\n",
       "Feasibility problem with:\n",
       "Variables: 0\n",
       "Model mode: AUTOMATIC\n",
       "CachingOptimizer state: EMPTY_OPTIMIZER\n",
       "Solver name: HiGHS"
      ]
     },
     "execution_count": 4,
     "metadata": {},
     "output_type": "execute_result"
    }
   ],
   "source": [
    "model = Model(HiGHS.Optimizer)"
   ]
  },
  {
   "cell_type": "code",
   "execution_count": 5,
   "id": "991a9ec4",
   "metadata": {},
   "outputs": [
    {
     "data": {
      "text/html": [
       "<div><div style = \"float: left;\"><span>9×6 DataFrame</span></div><div style = \"clear: both;\"></div></div><div class = \"data-frame\" style = \"overflow-x: scroll;\"><table class = \"data-frame\" style = \"margin-bottom: 6px;\"><thead><tr class = \"header\"><th class = \"rowNumber\" style = \"font-weight: bold; text-align: right;\">Row</th><th style = \"text-align: left;\">name</th><th style = \"text-align: left;\">cost</th><th style = \"text-align: left;\">calories</th><th style = \"text-align: left;\">protein</th><th style = \"text-align: left;\">fat</th><th style = \"text-align: left;\">sodium</th></tr><tr class = \"subheader headerLastRow\"><th class = \"rowNumber\" style = \"font-weight: bold; text-align: right;\"></th><th title = \"Any\" style = \"text-align: left;\">Any</th><th title = \"Any\" style = \"text-align: left;\">Any</th><th title = \"Any\" style = \"text-align: left;\">Any</th><th title = \"Any\" style = \"text-align: left;\">Any</th><th title = \"Any\" style = \"text-align: left;\">Any</th><th title = \"Any\" style = \"text-align: left;\">Any</th></tr></thead><tbody><tr><td class = \"rowNumber\" style = \"font-weight: bold; text-align: right;\">1</td><td style = \"text-align: left;\">hamburger</td><td style = \"text-align: left;\">2.49</td><td style = \"text-align: left;\">410</td><td style = \"text-align: left;\">24</td><td style = \"text-align: left;\">26</td><td style = \"text-align: left;\">730</td></tr><tr><td class = \"rowNumber\" style = \"font-weight: bold; text-align: right;\">2</td><td style = \"text-align: left;\">chicken</td><td style = \"text-align: left;\">2.89</td><td style = \"text-align: left;\">420</td><td style = \"text-align: left;\">32</td><td style = \"text-align: left;\">10</td><td style = \"text-align: left;\">1190</td></tr><tr><td class = \"rowNumber\" style = \"font-weight: bold; text-align: right;\">3</td><td style = \"text-align: left;\">hot dog</td><td style = \"text-align: left;\">1.5</td><td style = \"text-align: left;\">560</td><td style = \"text-align: left;\">20</td><td style = \"text-align: left;\">32</td><td style = \"text-align: left;\">1800</td></tr><tr><td class = \"rowNumber\" style = \"font-weight: bold; text-align: right;\">4</td><td style = \"text-align: left;\">fries</td><td style = \"text-align: left;\">1.89</td><td style = \"text-align: left;\">380</td><td style = \"text-align: left;\">4</td><td style = \"text-align: left;\">19</td><td style = \"text-align: left;\">270</td></tr><tr><td class = \"rowNumber\" style = \"font-weight: bold; text-align: right;\">5</td><td style = \"text-align: left;\">macaroni</td><td style = \"text-align: left;\">2.09</td><td style = \"text-align: left;\">320</td><td style = \"text-align: left;\">12</td><td style = \"text-align: left;\">10</td><td style = \"text-align: left;\">930</td></tr><tr><td class = \"rowNumber\" style = \"font-weight: bold; text-align: right;\">6</td><td style = \"text-align: left;\">pizza</td><td style = \"text-align: left;\">1.99</td><td style = \"text-align: left;\">320</td><td style = \"text-align: left;\">15</td><td style = \"text-align: left;\">12</td><td style = \"text-align: left;\">820</td></tr><tr><td class = \"rowNumber\" style = \"font-weight: bold; text-align: right;\">7</td><td style = \"text-align: left;\">salad</td><td style = \"text-align: left;\">2.49</td><td style = \"text-align: left;\">320</td><td style = \"text-align: left;\">31</td><td style = \"text-align: left;\">12</td><td style = \"text-align: left;\">1230</td></tr><tr><td class = \"rowNumber\" style = \"font-weight: bold; text-align: right;\">8</td><td style = \"text-align: left;\">milk</td><td style = \"text-align: left;\">0.89</td><td style = \"text-align: left;\">100</td><td style = \"text-align: left;\">8</td><td style = \"text-align: left;\">2.5</td><td style = \"text-align: left;\">125</td></tr><tr><td class = \"rowNumber\" style = \"font-weight: bold; text-align: right;\">9</td><td style = \"text-align: left;\">ice cream</td><td style = \"text-align: left;\">1.59</td><td style = \"text-align: left;\">330</td><td style = \"text-align: left;\">8</td><td style = \"text-align: left;\">10</td><td style = \"text-align: left;\">180</td></tr></tbody></table></div>"
      ],
      "text/latex": [
       "\\begin{tabular}{r|cccccc}\n",
       "\t& name & cost & calories & protein & fat & sodium\\\\\n",
       "\t\\hline\n",
       "\t& Any & Any & Any & Any & Any & Any\\\\\n",
       "\t\\hline\n",
       "\t1 & hamburger & 2.49 & 410 & 24 & 26 & 730 \\\\\n",
       "\t2 & chicken & 2.89 & 420 & 32 & 10 & 1190 \\\\\n",
       "\t3 & hot dog & 1.5 & 560 & 20 & 32 & 1800 \\\\\n",
       "\t4 & fries & 1.89 & 380 & 4 & 19 & 270 \\\\\n",
       "\t5 & macaroni & 2.09 & 320 & 12 & 10 & 930 \\\\\n",
       "\t6 & pizza & 1.99 & 320 & 15 & 12 & 820 \\\\\n",
       "\t7 & salad & 2.49 & 320 & 31 & 12 & 1230 \\\\\n",
       "\t8 & milk & 0.89 & 100 & 8 & 2.5 & 125 \\\\\n",
       "\t9 & ice cream & 1.59 & 330 & 8 & 10 & 180 \\\\\n",
       "\\end{tabular}\n"
      ],
      "text/plain": [
       "\u001b[1m9×6 DataFrame\u001b[0m\n",
       "\u001b[1m Row \u001b[0m│\u001b[1m name      \u001b[0m\u001b[1m cost \u001b[0m\u001b[1m calories \u001b[0m\u001b[1m protein \u001b[0m\u001b[1m fat \u001b[0m\u001b[1m sodium \u001b[0m\n",
       "     │\u001b[90m Any       \u001b[0m\u001b[90m Any  \u001b[0m\u001b[90m Any      \u001b[0m\u001b[90m Any     \u001b[0m\u001b[90m Any \u001b[0m\u001b[90m Any    \u001b[0m\n",
       "─────┼─────────────────────────────────────────────────\n",
       "   1 │ hamburger  2.49  410       24       26   730\n",
       "   2 │ chicken    2.89  420       32       10   1190\n",
       "   3 │ hot dog    1.5   560       20       32   1800\n",
       "   4 │ fries      1.89  380       4        19   270\n",
       "   5 │ macaroni   2.09  320       12       10   930\n",
       "   6 │ pizza      1.99  320       15       12   820\n",
       "   7 │ salad      2.49  320       31       12   1230\n",
       "   8 │ milk       0.89  100       8        2.5  125\n",
       "   9 │ ice cream  1.59  330       8        10   180"
      ]
     },
     "execution_count": 5,
     "metadata": {},
     "output_type": "execute_result"
    }
   ],
   "source": [
    "foods = DataFrames.DataFrame(\n",
    "    [\n",
    "        \"hamburger\" 2.49 410 24 26 730\n",
    "        \"chicken\" 2.89 420 32 10 1190\n",
    "        \"hot dog\" 1.50 560 20 32 1800\n",
    "        \"fries\" 1.89 380 4 19 270\n",
    "        \"macaroni\" 2.09 320 12 10 930\n",
    "        \"pizza\" 1.99 320 15 12 820\n",
    "        \"salad\" 2.49 320 31 12 1230\n",
    "        \"milk\" 0.89 100 8 2.5 125\n",
    "        \"ice cream\" 1.59 330 8 10 180\n",
    "    ],\n",
    "    [\"name\", \"cost\", \"calories\", \"protein\", \"fat\", \"sodium\"],\n",
    ")"
   ]
  },
  {
   "cell_type": "code",
   "execution_count": 6,
   "id": "d9b07b2b",
   "metadata": {},
   "outputs": [
    {
     "data": {
      "text/html": [
       "<div><div style = \"float: left;\"><span>4×3 DataFrame</span></div><div style = \"clear: both;\"></div></div><div class = \"data-frame\" style = \"overflow-x: scroll;\"><table class = \"data-frame\" style = \"margin-bottom: 6px;\"><thead><tr class = \"header\"><th class = \"rowNumber\" style = \"font-weight: bold; text-align: right;\">Row</th><th style = \"text-align: left;\">name</th><th style = \"text-align: left;\">min</th><th style = \"text-align: left;\">max</th></tr><tr class = \"subheader headerLastRow\"><th class = \"rowNumber\" style = \"font-weight: bold; text-align: right;\"></th><th title = \"Any\" style = \"text-align: left;\">Any</th><th title = \"Any\" style = \"text-align: left;\">Any</th><th title = \"Any\" style = \"text-align: left;\">Any</th></tr></thead><tbody><tr><td class = \"rowNumber\" style = \"font-weight: bold; text-align: right;\">1</td><td style = \"text-align: left;\">calories</td><td style = \"text-align: left;\">1800</td><td style = \"text-align: left;\">2200</td></tr><tr><td class = \"rowNumber\" style = \"font-weight: bold; text-align: right;\">2</td><td style = \"text-align: left;\">protein</td><td style = \"text-align: left;\">91</td><td style = \"text-align: left;\">Inf</td></tr><tr><td class = \"rowNumber\" style = \"font-weight: bold; text-align: right;\">3</td><td style = \"text-align: left;\">fat</td><td style = \"text-align: left;\">0</td><td style = \"text-align: left;\">65</td></tr><tr><td class = \"rowNumber\" style = \"font-weight: bold; text-align: right;\">4</td><td style = \"text-align: left;\">sodium</td><td style = \"text-align: left;\">0</td><td style = \"text-align: left;\">1779</td></tr></tbody></table></div>"
      ],
      "text/latex": [
       "\\begin{tabular}{r|ccc}\n",
       "\t& name & min & max\\\\\n",
       "\t\\hline\n",
       "\t& Any & Any & Any\\\\\n",
       "\t\\hline\n",
       "\t1 & calories & 1800 & 2200 \\\\\n",
       "\t2 & protein & 91 & Inf \\\\\n",
       "\t3 & fat & 0 & 65 \\\\\n",
       "\t4 & sodium & 0 & 1779 \\\\\n",
       "\\end{tabular}\n"
      ],
      "text/plain": [
       "\u001b[1m4×3 DataFrame\u001b[0m\n",
       "\u001b[1m Row \u001b[0m│\u001b[1m name     \u001b[0m\u001b[1m min  \u001b[0m\u001b[1m max  \u001b[0m\n",
       "     │\u001b[90m Any      \u001b[0m\u001b[90m Any  \u001b[0m\u001b[90m Any  \u001b[0m\n",
       "─────┼──────────────────────\n",
       "   1 │ calories  1800  2200\n",
       "   2 │ protein   91    Inf\n",
       "   3 │ fat       0     65\n",
       "   4 │ sodium    0     1779"
      ]
     },
     "execution_count": 6,
     "metadata": {},
     "output_type": "execute_result"
    }
   ],
   "source": [
    "limits = DataFrames.DataFrame(\n",
    "    [\n",
    "        \"calories\" 1800 2200\n",
    "        \"protein\" 91 Inf\n",
    "        \"fat\" 0 65\n",
    "        \"sodium\" 0 1779\n",
    "    ],\n",
    "    [\"name\", \"min\", \"max\"],\n",
    ")"
   ]
  },
  {
   "cell_type": "code",
   "execution_count": 7,
   "id": "4d6b2c1f",
   "metadata": {},
   "outputs": [],
   "source": [
    "@variable(model, x[foods.name] >= 0);\n"
   ]
  },
  {
   "cell_type": "code",
   "execution_count": 8,
   "id": "01b5f004",
   "metadata": {},
   "outputs": [],
   "source": [
    "@objective(\n",
    "    model,\n",
    "    Min,\n",
    "    sum(food[\"cost\"] * x[food[\"name\"]] for food in eachrow(foods)),\n",
    ");"
   ]
  },
  {
   "cell_type": "code",
   "execution_count": 9,
   "id": "cba119a4",
   "metadata": {},
   "outputs": [],
   "source": [
    "for limit in eachrow(limits)\n",
    "    intake = @expression(\n",
    "        model,\n",
    "        sum(food[limit[\"name\"]] * x[food[\"name\"]] for food in eachrow(foods)),\n",
    "    )\n",
    "    @constraint(model, limit.min <= intake <= limit.max)\n",
    "end"
   ]
  },
  {
   "cell_type": "code",
   "execution_count": 10,
   "id": "62d287d1",
   "metadata": {},
   "outputs": [
    {
     "data": {
      "text/latex": [
       "$$ \\begin{aligned}\n",
       "\\min\\quad & 2.49 x_{hamburger} + 2.89 x_{chicken} + 1.5 x_{hot dog} + 1.89 x_{fries} + 2.09 x_{macaroni} + 1.99 x_{pizza} + 2.49 x_{salad} + 0.89 x_{milk} + 1.59 x_{ice cream}\\\\\n",
       "\\text{Subject to} \\quad & 410 x_{hamburger} + 420 x_{chicken} + 560 x_{hot dog} + 380 x_{fries} + 320 x_{macaroni} + 320 x_{pizza} + 320 x_{salad} + 100 x_{milk} + 330 x_{ice cream} \\in \\[1800.0, 2200.0\\]\\\\\n",
       " & 24 x_{hamburger} + 32 x_{chicken} + 20 x_{hot dog} + 4 x_{fries} + 12 x_{macaroni} + 15 x_{pizza} + 31 x_{salad} + 8 x_{milk} + 8 x_{ice cream} \\in \\[91.0, Inf\\]\\\\\n",
       " & 26 x_{hamburger} + 10 x_{chicken} + 32 x_{hot dog} + 19 x_{fries} + 10 x_{macaroni} + 12 x_{pizza} + 12 x_{salad} + 2.5 x_{milk} + 10 x_{ice cream} \\in \\[0.0, 65.0\\]\\\\\n",
       " & 730 x_{hamburger} + 1190 x_{chicken} + 1800 x_{hot dog} + 270 x_{fries} + 930 x_{macaroni} + 820 x_{pizza} + 1230 x_{salad} + 125 x_{milk} + 180 x_{ice cream} \\in \\[0.0, 1779.0\\]\\\\\n",
       " & x_{hamburger} \\geq 0.0\\\\\n",
       " & x_{chicken} \\geq 0.0\\\\\n",
       " & x_{hot dog} \\geq 0.0\\\\\n",
       " & x_{fries} \\geq 0.0\\\\\n",
       " & x_{macaroni} \\geq 0.0\\\\\n",
       " & x_{pizza} \\geq 0.0\\\\\n",
       " & x_{salad} \\geq 0.0\\\\\n",
       " & x_{milk} \\geq 0.0\\\\\n",
       " & x_{ice cream} \\geq 0.0\\\\\n",
       "\\end{aligned} $$"
      ]
     },
     "metadata": {},
     "output_type": "display_data"
    }
   ],
   "source": [
    "print(model)"
   ]
  },
  {
   "cell_type": "code",
   "execution_count": 11,
   "id": "5fc07e81",
   "metadata": {},
   "outputs": [
    {
     "name": "stdout",
     "output_type": "stream",
     "text": [
      "Running HiGHS 1.4.0 [date: 1970-01-01, git hash: bcf6c0b22]\n",
      "Copyright (c) 2022 ERGO-Code under MIT licence terms\n",
      "Presolving model\n",
      "4 rows, 9 cols, 36 nonzeros\n",
      "4 rows, 9 cols, 36 nonzeros\n",
      "Presolve : Reductions: rows 4(-0); columns 9(-0); elements 36(-0) - Not reduced\n",
      "Problem not reduced by presolve: solving the LP\n",
      "Using EKK dual simplex solver - serial\n",
      "  Iteration        Objective     Infeasibilities num(sum)\n",
      "          0     0.0000000000e+00 Pr: 2(814) 0s\n",
      "          6     1.1828861111e+01 Pr: 0(0) 0s\n",
      "Model   status      : Optimal\n",
      "Simplex   iterations: 6\n",
      "Objective value     :  1.1828861111e+01\n",
      "HiGHS run time      :          0.00\n"
     ]
    },
    {
     "data": {
      "text/plain": [
       "* Solver : HiGHS\n",
       "\n",
       "* Status\n",
       "  Termination status : OPTIMAL\n",
       "  Primal status      : FEASIBLE_POINT\n",
       "  Dual status        : FEASIBLE_POINT\n",
       "  Message from the solver:\n",
       "  \"kHighsModelStatusOptimal\"\n",
       "\n",
       "* Candidate solution\n",
       "  Objective value      : 1.18289e+01\n",
       "  Objective bound      : 0.00000e+00\n",
       "  Relative gap         : Inf\n",
       "  Dual objective value : 1.18289e+01\n",
       "\n",
       "* Work counters\n",
       "  Solve time (sec)   : 7.48873e-04\n",
       "  Simplex iterations : 6\n",
       "  Barrier iterations : 0\n",
       "  Node count         : -1\n"
      ]
     },
     "execution_count": 11,
     "metadata": {},
     "output_type": "execute_result"
    }
   ],
   "source": [
    "optimize!(model)\n",
    "solution_summary(model)"
   ]
  },
  {
   "cell_type": "code",
   "execution_count": 12,
   "id": "5e787c6c",
   "metadata": {},
   "outputs": [
    {
     "name": "stdout",
     "output_type": "stream",
     "text": [
      "hamburger = 0.6045138888888871\n",
      "chicken = 0.0\n",
      "hot dog = 0.0\n",
      "fries = 0.0\n",
      "macaroni = 0.0\n",
      "pizza = 0.0\n",
      "salad = 0.0\n",
      "milk = 6.9701388888888935\n",
      "ice cream = 2.5913194444444447\n"
     ]
    }
   ],
   "source": [
    "for food in foods.name\n",
    "    println(food, \" = \", value(x[food]))\n",
    "end"
   ]
  },
  {
   "cell_type": "markdown",
   "id": "952fd499",
   "metadata": {},
   "source": [
    "# Switch to another solver for the model and try to solve again"
   ]
  },
  {
   "cell_type": "code",
   "execution_count": 13,
   "id": "9322a34c",
   "metadata": {},
   "outputs": [
    {
     "name": "stdout",
     "output_type": "stream",
     "text": [
      "Bonmin 1.8.8 using Cbc 2.10.5 and Ipopt 3.14.4\n",
      "bonmin: \n",
      "Cbc3007W No integer variables - nothing to do\n",
      "\n",
      "******************************************************************************\n",
      "This program contains Ipopt, a library for large-scale nonlinear optimization.\n",
      " Ipopt is released as open source code under the Eclipse Public License (EPL).\n",
      "         For more information visit https://github.com/coin-or/Ipopt\n",
      "******************************************************************************\n",
      "\n",
      "NLP0012I \n",
      "              Num      Status      Obj             It       time                 Location\n",
      "NLP0014I             1         OPT 11.828861       14 0.027724\n",
      "Cbc3007W No integer variables - nothing to do\n",
      "\n",
      " \t\"Finished\"\n",
      "hamburger = 0.6045141199666294\n",
      "chicken = -9.97078373783885e-9\n",
      "hot dog = -9.981653157313894e-9\n",
      "fries = -9.984424574497262e-9\n",
      "macaroni = -9.99251944383328e-9\n",
      "pizza = -9.987269834606244e-9\n",
      "salad = -9.977258028238156e-9\n",
      "milk = 6.9701383245810495\n",
      "ice cream = 2.5913193439887703\n"
     ]
    }
   ],
   "source": [
    "using AmplNLWriter, Bonmin_jll\n",
    "\n",
    "set_optimizer(model, () -> AmplNLWriter.Optimizer(Bonmin_jll.amplexe)) # note that syntax to set optimizer based on AmplNLWriter is different to a solver that is interfaced directly to JuMP\n",
    "optimize!(model)\n",
    "for food in foods.name\n",
    "    println(food, \" = \", value(x[food]))\n",
    "end"
   ]
  },
  {
   "cell_type": "code",
   "execution_count": 14,
   "id": "f38e88fe",
   "metadata": {},
   "outputs": [
    {
     "name": "stdout",
     "output_type": "stream",
     "text": [
      "hamburger = 0.6045138888888892\n",
      "chicken = 0.0\n",
      "hot dog = 0.0\n",
      "fries = 0.0\n",
      "macaroni = 0.0\n",
      "pizza = 0.0\n",
      "salad = 0.0\n",
      "milk = 6.970138888888888\n",
      "ice cream = 2.591319444444444\n",
      "Coin0506I Presolve 4 (0) rows, 9 (0) columns and 36 (0) elements\n",
      "Clp0006I 0  Obj 0 Primal inf 6.0580355 (2)\n",
      "Clp0006I 6  Obj 11.828861\n",
      "Clp0000I Optimal - objective value 11.828861\n",
      "Clp0032I Optimal objective 11.82886111 - 6 iterations time 0.002\n"
     ]
    }
   ],
   "source": [
    "import Clp\n",
    "set_optimizer(model, Clp.Optimizer)\n",
    "optimize!(model)\n",
    "for food in foods.name\n",
    "    println(food, \" = \", value(x[food]))\n",
    "end"
   ]
  },
  {
   "cell_type": "code",
   "execution_count": null,
   "id": "87f4f34b",
   "metadata": {},
   "outputs": [],
   "source": [
    "import SCIP\n",
    "\n",
    "set_optimizer(model, SCIP.Optimizer)\n",
    "optimize!(model)\n",
    "for food in foods.name\n",
    "    println(food, \" = \", value(x[food]))\n",
    "end"
   ]
  },
  {
   "cell_type": "code",
   "execution_count": null,
   "id": "ab5a3fd0",
   "metadata": {},
   "outputs": [],
   "source": [
    "#reduced_cost(x)"
   ]
  },
  {
   "cell_type": "code",
   "execution_count": null,
   "id": "b236665f",
   "metadata": {},
   "outputs": [],
   "source": []
  }
 ],
 "metadata": {
  "kernelspec": {
   "display_name": "Julia 1.8.3",
   "language": "julia",
   "name": "julia-1.8"
  },
  "language_info": {
   "file_extension": ".jl",
   "mimetype": "application/julia",
   "name": "julia",
   "version": "1.8.3"
  },
  "widgets": {
   "application/vnd.jupyter.widget-state+json": {
    "state": {},
    "version_major": 1,
    "version_minor": 0
   }
  }
 },
 "nbformat": 4,
 "nbformat_minor": 5
}
